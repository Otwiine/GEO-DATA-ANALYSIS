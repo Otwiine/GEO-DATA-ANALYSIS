{
 "cells": [
  {
   "cell_type": "code",
   "execution_count": null,
   "metadata": {},
   "outputs": [],
   "source": [
    "import geopandas as gpd\n",
    "import leafmap\n",
    "import matplotlib.pyplot as plt\n",
    "\n",
    "# Load the shapefile\n",
    "USA = gpd.read_file('/Users/otwiine/Desktop/gadm41_USA_shp/gadm41_USA_1.shp')\n",
    "\n",
    "# Reproject to EPSG:4326 (web mapping standard)\n",
    "USA = USA.to_crs(epsg=4326)\n",
    "\n",
    "# Create a leafmap Map instance\n",
    "m = leafmap.Map(center=[37.0902, -95.7129], zoom=4)\n",
    "\n",
    "# Plot the state boundaries on the map\n",
    "m.add_gdf(USA, layer_name=\"USA States\", color=\"lightgreen\", edge_color=\"black\")\n",
    "\n",
    "# Calculate centroids and add them as red points\n",
    "centroids = USA.geometry.centroid\n",
    "m.add_points(centroids, layer_name=\"Centroids\", color=\"red\", size=5)\n",
    "\n",
    "# Add a basemap (OpenStreetMap by default)\n",
    "m.add_basemap(\"OpenStreetMap\")\n",
    "\n",
    "# Display the map\n",
    "m\n"
   ]
  },
  {
   "cell_type": "code",
   "execution_count": null,
   "metadata": {},
   "outputs": [],
   "source": []
  }
 ],
 "metadata": {
  "kernelspec": {
   "display_name": "base",
   "language": "python",
   "name": "python3"
  },
  "language_info": {
   "codemirror_mode": {
    "name": "ipython",
    "version": 3
   },
   "file_extension": ".py",
   "mimetype": "text/x-python",
   "name": "python",
   "nbconvert_exporter": "python",
   "pygments_lexer": "ipython3",
   "version": "3.12.7"
  }
 },
 "nbformat": 4,
 "nbformat_minor": 2
}
